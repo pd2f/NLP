{
 "cells": [
  {
   "cell_type": "markdown",
   "metadata": {},
   "source": [
    "## Trabalho Final"
   ]
  },
  {
   "cell_type": "code",
   "execution_count": 1,
   "metadata": {},
   "outputs": [
    {
     "name": "stdout",
     "output_type": "stream",
     "text": [
      "[nltk_data] Downloading package punkt to\n",
      "[nltk_data]     C:\\Users\\Usuario\\AppData\\Roaming\\nltk_data...\n",
      "[nltk_data]   Package punkt is already up-to-date!\n",
      "[nltk_data] Downloading package wordnet to\n",
      "[nltk_data]     C:\\Users\\Usuario\\AppData\\Roaming\\nltk_data...\n",
      "[nltk_data]   Package wordnet is already up-to-date!\n"
     ]
    },
    {
     "data": {
      "text/plain": [
       "True"
      ]
     },
     "execution_count": 1,
     "metadata": {},
     "output_type": "execute_result"
    }
   ],
   "source": [
    "import pandas as pd\n",
    "import numpy as np\n",
    "import nltk\n",
    "import re\n",
    "\n",
    "from nltk.corpus import stopwords\n",
    "from nltk.stem import PorterStemmer\n",
    "\n",
    "from sklearn.feature_extraction.text import CountVectorizer\n",
    "\n",
    "from unicodedata import normalize\n",
    "\n",
    "nltk.download('punkt')\n",
    "nltk.download('wordnet')\n"
   ]
  },
  {
   "cell_type": "code",
   "execution_count": 2,
   "metadata": {},
   "outputs": [
    {
     "name": "stderr",
     "output_type": "stream",
     "text": [
      "C:\\Users\\Usuario\\Anaconda3\\lib\\site-packages\\smart_open\\ssh.py:34: UserWarning: paramiko missing, opening SSH/SCP/SFTP paths will be disabled.  `pip install paramiko` to suppress\n",
      "  warnings.warn('paramiko missing, opening SSH/SCP/SFTP paths will be disabled.  `pip install paramiko` to suppress')\n",
      "C:\\Users\\Usuario\\Anaconda3\\lib\\site-packages\\gensim\\utils.py:1197: UserWarning: detected Windows; aliasing chunkize to chunkize_serial\n",
      "  warnings.warn(\"detected Windows; aliasing chunkize to chunkize_serial\")\n"
     ]
    }
   ],
   "source": [
    "import pickle\n",
    "import tensorflow as tf\n",
    "import gensim\n",
    "from gensim.models import Word2Vec\n",
    "import random\n",
    "import string\n",
    "from sklearn.utils import shuffle\n",
    "import multiprocessing\n",
    "from sklearn.model_selection import train_test_split\n",
    "from sklearn import svm\n",
    "from sklearn import metrics"
   ]
  },
  {
   "cell_type": "code",
   "execution_count": 3,
   "metadata": {},
   "outputs": [],
   "source": [
    "def trata_caracteres(txt):\n",
    "    txt=[normalize('NFKD',x).encode('ASCII','ignore').decode('ASCII') for x in txt]\n",
    "    txt=[re.sub('[^a-z|\\ ]','',str.lower(x)) for x in txt]\n",
    "    return txt"
   ]
  },
  {
   "cell_type": "code",
   "execution_count": 4,
   "metadata": {},
   "outputs": [],
   "source": [
    "stop_words = set(stopwords.words('english'))\n",
    "def remove_stop_words(txt):\n",
    "    texto = CountVectorizer(ngram_range=(1,1),stop_words=stop_words)\n",
    "    texto.fit(txt)\n",
    "    return texto"
   ]
  },
  {
   "cell_type": "code",
   "execution_count": 5,
   "metadata": {},
   "outputs": [],
   "source": [
    "def tratar_texto(txt,metodo=''):\n",
    "    txt = trata_caracteres(txt)\n",
    "    try:\n",
    "        texto = remove_stop_words(txt)\n",
    "        lista_txt = texto.get_feature_names()\n",
    "    except:\n",
    "        lista_txt = txt\n",
    "    if metodo=='lemma':\n",
    "        lem = WordNetLemmatizer()\n",
    "        for part_of_speech in ['a', 's', 'r', 'n', 'v']:\n",
    "            tms = [lem.lemmatize(a,part_of_speech) for a in lista_txt]\n",
    "    if metodo == 'stem':\n",
    "        ps = PorterStemmer()\n",
    "        tms = [ps.stem(a) for a in lista_txt]\n",
    "    if metodo == '':\n",
    "        tms = txt\n",
    "    return \" \".join(tms)"
   ]
  },
  {
   "cell_type": "code",
   "execution_count": 6,
   "metadata": {},
   "outputs": [],
   "source": [
    "def processamento_text(df):\n",
    "    return df.apply(lambda x: tratar_texto([x],'stem'))"
   ]
  },
  {
   "cell_type": "code",
   "execution_count": 7,
   "metadata": {},
   "outputs": [],
   "source": [
    "def compute_DTM(df):\n",
    "    vect = CountVectorizer()\n",
    "    vect.fit(df)\n",
    "    o = vect.transform(df)\n",
    "    return pd.DataFrame(o.A, columns=vect.get_feature_names())"
   ]
  },
  {
   "cell_type": "code",
   "execution_count": 8,
   "metadata": {},
   "outputs": [],
   "source": [
    "def compute_DTM_ajustado(df,queries):\n",
    "    vect = CountVectorizer()\n",
    "    vect.fit(df)\n",
    "    o = vect.transform(queries)\n",
    "    return pd.DataFrame(o.A, columns=vect.get_feature_names())"
   ]
  },
  {
   "cell_type": "code",
   "execution_count": 9,
   "metadata": {},
   "outputs": [],
   "source": [
    "def remove_ano(txt):\n",
    "    txt=re.sub(r'(\\([^a-z]*\\))','',str(txt))\n",
    "    return txt"
   ]
  },
  {
   "cell_type": "code",
   "execution_count": 10,
   "metadata": {},
   "outputs": [],
   "source": [
    "data = pd.read_csv('movies.csv',index_col=0)"
   ]
  },
  {
   "cell_type": "code",
   "execution_count": 11,
   "metadata": {},
   "outputs": [],
   "source": [
    "query = ['toy story', 'the lion king','alladin','beauty and the best','cinderella','little mermaid','hercules']"
   ]
  },
  {
   "cell_type": "code",
   "execution_count": 12,
   "metadata": {},
   "outputs": [],
   "source": [
    "data['Ntitle'] = processamento_text(data.title)"
   ]
  },
  {
   "cell_type": "code",
   "execution_count": 13,
   "metadata": {},
   "outputs": [],
   "source": [
    "X = compute_DTM(data.Ntitle)"
   ]
  },
  {
   "cell_type": "code",
   "execution_count": 14,
   "metadata": {},
   "outputs": [],
   "source": [
    "N = len(query)"
   ]
  },
  {
   "cell_type": "code",
   "execution_count": 15,
   "metadata": {},
   "outputs": [],
   "source": [
    "xij = compute_DTM_ajustado(data.Ntitle,processamento_text(pd.DataFrame(query)[0]))"
   ]
  },
  {
   "cell_type": "code",
   "execution_count": 16,
   "metadata": {},
   "outputs": [],
   "source": [
    "m = X.mean(axis=0)\n",
    "c = 2\n",
    "B = c*(1-m)\n",
    "a = c*m"
   ]
  },
  {
   "cell_type": "code",
   "execution_count": 17,
   "metadata": {},
   "outputs": [],
   "source": [
    "a_til = a + xij.sum(axis=0)"
   ]
  },
  {
   "cell_type": "code",
   "execution_count": 18,
   "metadata": {},
   "outputs": [],
   "source": [
    "B_til = B + N - xij.sum(axis=0)"
   ]
  },
  {
   "cell_type": "code",
   "execution_count": 19,
   "metadata": {},
   "outputs": [],
   "source": [
    "q = np.log(a_til) - np.log(a) - np.log(B_til) + np.log(B)"
   ]
  },
  {
   "cell_type": "code",
   "execution_count": 20,
   "metadata": {},
   "outputs": [],
   "source": [
    "nc = np.log(a + B) - np.log(a + B + N) + np.log(B_til) - np.log(B)"
   ]
  },
  {
   "cell_type": "code",
   "execution_count": 21,
   "metadata": {},
   "outputs": [],
   "source": [
    "s = nc + X.multiply(q)"
   ]
  },
  {
   "cell_type": "code",
   "execution_count": 22,
   "metadata": {},
   "outputs": [],
   "source": [
    "ndata = pd.DataFrame(data.title.apply(remove_ano)).reset_index()\n",
    "score = pd.DataFrame(s.sum(axis=1),columns=['score'])      "
   ]
  },
  {
   "cell_type": "code",
   "execution_count": 23,
   "metadata": {},
   "outputs": [],
   "source": [
    "result = ndata.join(score)    "
   ]
  },
  {
   "cell_type": "code",
   "execution_count": 24,
   "metadata": {
    "collapsed": true
   },
   "outputs": [
    {
     "data": {
      "text/html": [
       "<div>\n",
       "<style scoped>\n",
       "    .dataframe tbody tr th:only-of-type {\n",
       "        vertical-align: middle;\n",
       "    }\n",
       "\n",
       "    .dataframe tbody tr th {\n",
       "        vertical-align: top;\n",
       "    }\n",
       "\n",
       "    .dataframe thead th {\n",
       "        text-align: right;\n",
       "    }\n",
       "</style>\n",
       "<table border=\"1\" class=\"dataframe\">\n",
       "  <thead>\n",
       "    <tr style=\"text-align: right;\">\n",
       "      <th></th>\n",
       "      <th>movieId</th>\n",
       "      <th>title</th>\n",
       "      <th>score</th>\n",
       "    </tr>\n",
       "  </thead>\n",
       "  <tbody>\n",
       "    <tr>\n",
       "      <th>1997</th>\n",
       "      <td>2081</td>\n",
       "      <td>Little Mermaid, The</td>\n",
       "      <td>9.898317</td>\n",
       "    </tr>\n",
       "    <tr>\n",
       "      <th>360</th>\n",
       "      <td>364</td>\n",
       "      <td>Lion King, The</td>\n",
       "      <td>9.141145</td>\n",
       "    </tr>\n",
       "    <tr>\n",
       "      <th>9398</th>\n",
       "      <td>27619</td>\n",
       "      <td>Lion King 1½, The</td>\n",
       "      <td>9.141145</td>\n",
       "    </tr>\n",
       "    <tr>\n",
       "      <th>7960</th>\n",
       "      <td>8643</td>\n",
       "      <td>Cinderella Story, A</td>\n",
       "      <td>8.860324</td>\n",
       "    </tr>\n",
       "    <tr>\n",
       "      <th>0</th>\n",
       "      <td>1</td>\n",
       "      <td>Toy Story</td>\n",
       "      <td>8.503923</td>\n",
       "    </tr>\n",
       "    <tr>\n",
       "      <th>3027</th>\n",
       "      <td>3114</td>\n",
       "      <td>Toy Story 2</td>\n",
       "      <td>8.503923</td>\n",
       "    </tr>\n",
       "    <tr>\n",
       "      <th>15401</th>\n",
       "      <td>78499</td>\n",
       "      <td>Toy Story 3</td>\n",
       "      <td>8.503923</td>\n",
       "    </tr>\n",
       "    <tr>\n",
       "      <th>18646</th>\n",
       "      <td>92793</td>\n",
       "      <td>Rusalochka (The Little Mermaid)</td>\n",
       "      <td>8.394211</td>\n",
       "    </tr>\n",
       "    <tr>\n",
       "      <th>2041</th>\n",
       "      <td>2125</td>\n",
       "      <td>Ever After: A Cinderella Story</td>\n",
       "      <td>7.355762</td>\n",
       "    </tr>\n",
       "    <tr>\n",
       "      <th>18252</th>\n",
       "      <td>91266</td>\n",
       "      <td>Another Cinderella Story</td>\n",
       "      <td>7.355276</td>\n",
       "    </tr>\n",
       "    <tr>\n",
       "      <th>6126</th>\n",
       "      <td>6225</td>\n",
       "      <td>King of Kings</td>\n",
       "      <td>7.179603</td>\n",
       "    </tr>\n",
       "    <tr>\n",
       "      <th>7837</th>\n",
       "      <td>8480</td>\n",
       "      <td>King of Kings, The</td>\n",
       "      <td>7.179603</td>\n",
       "    </tr>\n",
       "    <tr>\n",
       "      <th>27189</th>\n",
       "      <td>130996</td>\n",
       "      <td>The Beautiful Story</td>\n",
       "      <td>7.025410</td>\n",
       "    </tr>\n",
       "    <tr>\n",
       "      <th>21981</th>\n",
       "      <td>106022</td>\n",
       "      <td>Toy Story of Terror</td>\n",
       "      <td>6.998390</td>\n",
       "    </tr>\n",
       "    <tr>\n",
       "      <th>19335</th>\n",
       "      <td>96069</td>\n",
       "      <td>Little Mermaid: Ariel's Beginning, The</td>\n",
       "      <td>6.889221</td>\n",
       "    </tr>\n",
       "    <tr>\n",
       "      <th>12874</th>\n",
       "      <td>60806</td>\n",
       "      <td>Little Mermaid 2: Return to the Sea, The</td>\n",
       "      <td>6.885105</td>\n",
       "    </tr>\n",
       "    <tr>\n",
       "      <th>4111</th>\n",
       "      <td>4205</td>\n",
       "      <td>Mermaids</td>\n",
       "      <td>6.761115</td>\n",
       "    </tr>\n",
       "    <tr>\n",
       "      <th>23754</th>\n",
       "      <td>112911</td>\n",
       "      <td>Hercules</td>\n",
       "      <td>6.560535</td>\n",
       "    </tr>\n",
       "    <tr>\n",
       "      <th>1515</th>\n",
       "      <td>1566</td>\n",
       "      <td>Hercules</td>\n",
       "      <td>6.560535</td>\n",
       "    </tr>\n",
       "    <tr>\n",
       "      <th>26654</th>\n",
       "      <td>128201</td>\n",
       "      <td>Hercules</td>\n",
       "      <td>6.560535</td>\n",
       "    </tr>\n",
       "    <tr>\n",
       "      <th>27069</th>\n",
       "      <td>130073</td>\n",
       "      <td>Cinderella</td>\n",
       "      <td>6.319511</td>\n",
       "    </tr>\n",
       "    <tr>\n",
       "      <th>1003</th>\n",
       "      <td>1022</td>\n",
       "      <td>Cinderella</td>\n",
       "      <td>6.319511</td>\n",
       "    </tr>\n",
       "    <tr>\n",
       "      <th>13118</th>\n",
       "      <td>63239</td>\n",
       "      <td>Cinderella</td>\n",
       "      <td>6.319511</td>\n",
       "    </tr>\n",
       "    <tr>\n",
       "      <th>23511</th>\n",
       "      <td>111901</td>\n",
       "      <td>Cinderella</td>\n",
       "      <td>6.319511</td>\n",
       "    </tr>\n",
       "    <tr>\n",
       "      <th>23520</th>\n",
       "      <td>111961</td>\n",
       "      <td>Cinderella</td>\n",
       "      <td>6.319511</td>\n",
       "    </tr>\n",
       "    <tr>\n",
       "      <th>4833</th>\n",
       "      <td>4929</td>\n",
       "      <td>Toy, The</td>\n",
       "      <td>5.963110</td>\n",
       "    </tr>\n",
       "    <tr>\n",
       "      <th>2168</th>\n",
       "      <td>2253</td>\n",
       "      <td>Toys</td>\n",
       "      <td>5.963110</td>\n",
       "    </tr>\n",
       "    <tr>\n",
       "      <th>25102</th>\n",
       "      <td>118496</td>\n",
       "      <td>A Cinderella Story: Once Upon a Song</td>\n",
       "      <td>5.849971</td>\n",
       "    </tr>\n",
       "    <tr>\n",
       "      <th>25463</th>\n",
       "      <td>120474</td>\n",
       "      <td>Toy Story That Time Forgot</td>\n",
       "      <td>5.489955</td>\n",
       "    </tr>\n",
       "    <tr>\n",
       "      <th>15368</th>\n",
       "      <td>78335</td>\n",
       "      <td>Mermaid, The (Rusalka)</td>\n",
       "      <td>5.257009</td>\n",
       "    </tr>\n",
       "    <tr>\n",
       "      <th>...</th>\n",
       "      <td>...</td>\n",
       "      <td>...</td>\n",
       "      <td>...</td>\n",
       "    </tr>\n",
       "    <tr>\n",
       "      <th>14375</th>\n",
       "      <td>72001</td>\n",
       "      <td>Extraordinary Adventures of Mr. West in the La...</td>\n",
       "      <td>-17.236055</td>\n",
       "    </tr>\n",
       "    <tr>\n",
       "      <th>4960</th>\n",
       "      <td>5056</td>\n",
       "      <td>Enigma of Kaspar Hauser, The (a.k.a. Mystery o...</td>\n",
       "      <td>-17.237815</td>\n",
       "    </tr>\n",
       "    <tr>\n",
       "      <th>11479</th>\n",
       "      <td>49513</td>\n",
       "      <td>Brighter Summer Day, A (Gu ling jie shao nian ...</td>\n",
       "      <td>-17.238424</td>\n",
       "    </tr>\n",
       "    <tr>\n",
       "      <th>7706</th>\n",
       "      <td>8224</td>\n",
       "      <td>Dexter the Dragon &amp; Bumble the Bear (a.k.a. Dr...</td>\n",
       "      <td>-17.239843</td>\n",
       "    </tr>\n",
       "    <tr>\n",
       "      <th>8552</th>\n",
       "      <td>26012</td>\n",
       "      <td>Samurai III: Duel on Ganryu Island (a.k.a. Bus...</td>\n",
       "      <td>-17.240529</td>\n",
       "    </tr>\n",
       "    <tr>\n",
       "      <th>24406</th>\n",
       "      <td>115669</td>\n",
       "      <td>Young Detective Dee: Rise of the Sea Dragon (D...</td>\n",
       "      <td>-17.241532</td>\n",
       "    </tr>\n",
       "    <tr>\n",
       "      <th>10259</th>\n",
       "      <td>34240</td>\n",
       "      <td>Karol: A Man Who Became Pope (Karol, un uomo d...</td>\n",
       "      <td>-17.241735</td>\n",
       "    </tr>\n",
       "    <tr>\n",
       "      <th>18067</th>\n",
       "      <td>90537</td>\n",
       "      <td>Love Affair, or the Case of the Missing Switch...</td>\n",
       "      <td>-17.242020</td>\n",
       "    </tr>\n",
       "    <tr>\n",
       "      <th>10605</th>\n",
       "      <td>40831</td>\n",
       "      <td>My Mother's Smile (a.k.a. The Religion Hour) (...</td>\n",
       "      <td>-17.242241</td>\n",
       "    </tr>\n",
       "    <tr>\n",
       "      <th>12205</th>\n",
       "      <td>55726</td>\n",
       "      <td>Year My Parents Went on Vacation, The (O Ano e...</td>\n",
       "      <td>-17.243118</td>\n",
       "    </tr>\n",
       "    <tr>\n",
       "      <th>24384</th>\n",
       "      <td>115556</td>\n",
       "      <td>Films to Keep You Awake: The Baby's Room (Pelí...</td>\n",
       "      <td>-17.246587</td>\n",
       "    </tr>\n",
       "    <tr>\n",
       "      <th>3561</th>\n",
       "      <td>3652</td>\n",
       "      <td>City of the Living Dead (a.k.a. Gates of Hell,...</td>\n",
       "      <td>-17.253473</td>\n",
       "    </tr>\n",
       "    <tr>\n",
       "      <th>17328</th>\n",
       "      <td>87392</td>\n",
       "      <td>Working Class Goes to Heaven, The (a.k.a. Lulu...</td>\n",
       "      <td>-17.254296</td>\n",
       "    </tr>\n",
       "    <tr>\n",
       "      <th>8732</th>\n",
       "      <td>26268</td>\n",
       "      <td>Tall Blond Man with One Black Shoe, The (Le gr...</td>\n",
       "      <td>-17.262646</td>\n",
       "    </tr>\n",
       "    <tr>\n",
       "      <th>14847</th>\n",
       "      <td>74327</td>\n",
       "      <td>First Day of the Rest of Your Life, The (Le pr...</td>\n",
       "      <td>-17.270674</td>\n",
       "    </tr>\n",
       "    <tr>\n",
       "      <th>19316</th>\n",
       "      <td>96004</td>\n",
       "      <td>Dragon Ball Z: The History of Trunks (Doragon ...</td>\n",
       "      <td>-18.735297</td>\n",
       "    </tr>\n",
       "    <tr>\n",
       "      <th>19317</th>\n",
       "      <td>96007</td>\n",
       "      <td>Dragon Ball GT: A Hero's Legacy (Doragon bôru ...</td>\n",
       "      <td>-18.736552</td>\n",
       "    </tr>\n",
       "    <tr>\n",
       "      <th>8001</th>\n",
       "      <td>8684</td>\n",
       "      <td>Man Escaped, A (Un  condamné à mort s'est écha...</td>\n",
       "      <td>-18.759939</td>\n",
       "    </tr>\n",
       "    <tr>\n",
       "      <th>20052</th>\n",
       "      <td>98829</td>\n",
       "      <td>Evil Cult, The (Lord of the Wu Tang) (Yi tian ...</td>\n",
       "      <td>-20.241513</td>\n",
       "    </tr>\n",
       "    <tr>\n",
       "      <th>19269</th>\n",
       "      <td>95771</td>\n",
       "      <td>Dragon Ball Z: Broly Second Coming (Doragon bô...</td>\n",
       "      <td>-20.243114</td>\n",
       "    </tr>\n",
       "    <tr>\n",
       "      <th>20571</th>\n",
       "      <td>100721</td>\n",
       "      <td>Black Magic Rites &amp; the Secret Orgies of the 1...</td>\n",
       "      <td>-20.244638</td>\n",
       "    </tr>\n",
       "    <tr>\n",
       "      <th>7315</th>\n",
       "      <td>7441</td>\n",
       "      <td>Thousand Clouds of Peace, A (Mil nubes de paz ...</td>\n",
       "      <td>-20.251701</td>\n",
       "    </tr>\n",
       "    <tr>\n",
       "      <th>14863</th>\n",
       "      <td>74438</td>\n",
       "      <td>Legend of the Red Dragon (a.k.a. New Legend of...</td>\n",
       "      <td>-20.257257</td>\n",
       "    </tr>\n",
       "    <tr>\n",
       "      <th>9198</th>\n",
       "      <td>27103</td>\n",
       "      <td>Strange Behaviour of Sexually Mature City Slic...</td>\n",
       "      <td>-21.746283</td>\n",
       "    </tr>\n",
       "    <tr>\n",
       "      <th>5445</th>\n",
       "      <td>5542</td>\n",
       "      <td>Nightmare City (a.k.a. City of the Walking Dea...</td>\n",
       "      <td>-21.788243</td>\n",
       "    </tr>\n",
       "    <tr>\n",
       "      <th>7309</th>\n",
       "      <td>7422</td>\n",
       "      <td>Love and Anarchy (Film d'amore e d'anarchia, o...</td>\n",
       "      <td>-23.259131</td>\n",
       "    </tr>\n",
       "    <tr>\n",
       "      <th>19144</th>\n",
       "      <td>95165</td>\n",
       "      <td>Dragon Ball Z the Movie: The World's Strongest...</td>\n",
       "      <td>-23.285937</td>\n",
       "    </tr>\n",
       "    <tr>\n",
       "      <th>19305</th>\n",
       "      <td>95965</td>\n",
       "      <td>Dragon Ball Z: Bardock - The Father of Goku (D...</td>\n",
       "      <td>-24.752947</td>\n",
       "    </tr>\n",
       "    <tr>\n",
       "      <th>6127</th>\n",
       "      <td>6226</td>\n",
       "      <td>Lost Honor of Katharina Blum, The (Verlorene E...</td>\n",
       "      <td>-24.757130</td>\n",
       "    </tr>\n",
       "    <tr>\n",
       "      <th>14135</th>\n",
       "      <td>70927</td>\n",
       "      <td>To Each His Own Cinema (Chacun son cinéma ou C...</td>\n",
       "      <td>-26.284865</td>\n",
       "    </tr>\n",
       "  </tbody>\n",
       "</table>\n",
       "<p>27278 rows × 3 columns</p>\n",
       "</div>"
      ],
      "text/plain": [
       "       movieId                                              title      score\n",
       "1997      2081                               Little Mermaid, The    9.898317\n",
       "360        364                                    Lion King, The    9.141145\n",
       "9398     27619                                 Lion King 1½, The    9.141145\n",
       "7960      8643                               Cinderella Story, A    8.860324\n",
       "0            1                                         Toy Story    8.503923\n",
       "3027      3114                                       Toy Story 2    8.503923\n",
       "15401    78499                                       Toy Story 3    8.503923\n",
       "18646    92793                   Rusalochka (The Little Mermaid)    8.394211\n",
       "2041      2125                    Ever After: A Cinderella Story    7.355762\n",
       "18252    91266                          Another Cinderella Story    7.355276\n",
       "6126      6225                                     King of Kings    7.179603\n",
       "7837      8480                                King of Kings, The    7.179603\n",
       "27189   130996                               The Beautiful Story    7.025410\n",
       "21981   106022                               Toy Story of Terror    6.998390\n",
       "19335    96069            Little Mermaid: Ariel's Beginning, The    6.889221\n",
       "12874    60806          Little Mermaid 2: Return to the Sea, The    6.885105\n",
       "4111      4205                                          Mermaids    6.761115\n",
       "23754   112911                                          Hercules    6.560535\n",
       "1515      1566                                          Hercules    6.560535\n",
       "26654   128201                                          Hercules    6.560535\n",
       "27069   130073                                        Cinderella    6.319511\n",
       "1003      1022                                        Cinderella    6.319511\n",
       "13118    63239                                        Cinderella    6.319511\n",
       "23511   111901                                        Cinderella    6.319511\n",
       "23520   111961                                        Cinderella    6.319511\n",
       "4833      4929                                          Toy, The    5.963110\n",
       "2168      2253                                              Toys    5.963110\n",
       "25102   118496              A Cinderella Story: Once Upon a Song    5.849971\n",
       "25463   120474                        Toy Story That Time Forgot    5.489955\n",
       "15368    78335                            Mermaid, The (Rusalka)    5.257009\n",
       "...        ...                                                ...        ...\n",
       "14375    72001  Extraordinary Adventures of Mr. West in the La... -17.236055\n",
       "4960      5056  Enigma of Kaspar Hauser, The (a.k.a. Mystery o... -17.237815\n",
       "11479    49513  Brighter Summer Day, A (Gu ling jie shao nian ... -17.238424\n",
       "7706      8224  Dexter the Dragon & Bumble the Bear (a.k.a. Dr... -17.239843\n",
       "8552     26012  Samurai III: Duel on Ganryu Island (a.k.a. Bus... -17.240529\n",
       "24406   115669  Young Detective Dee: Rise of the Sea Dragon (D... -17.241532\n",
       "10259    34240  Karol: A Man Who Became Pope (Karol, un uomo d... -17.241735\n",
       "18067    90537  Love Affair, or the Case of the Missing Switch... -17.242020\n",
       "10605    40831  My Mother's Smile (a.k.a. The Religion Hour) (... -17.242241\n",
       "12205    55726  Year My Parents Went on Vacation, The (O Ano e... -17.243118\n",
       "24384   115556  Films to Keep You Awake: The Baby's Room (Pelí... -17.246587\n",
       "3561      3652  City of the Living Dead (a.k.a. Gates of Hell,... -17.253473\n",
       "17328    87392  Working Class Goes to Heaven, The (a.k.a. Lulu... -17.254296\n",
       "8732     26268  Tall Blond Man with One Black Shoe, The (Le gr... -17.262646\n",
       "14847    74327  First Day of the Rest of Your Life, The (Le pr... -17.270674\n",
       "19316    96004  Dragon Ball Z: The History of Trunks (Doragon ... -18.735297\n",
       "19317    96007  Dragon Ball GT: A Hero's Legacy (Doragon bôru ... -18.736552\n",
       "8001      8684  Man Escaped, A (Un  condamné à mort s'est écha... -18.759939\n",
       "20052    98829  Evil Cult, The (Lord of the Wu Tang) (Yi tian ... -20.241513\n",
       "19269    95771  Dragon Ball Z: Broly Second Coming (Doragon bô... -20.243114\n",
       "20571   100721  Black Magic Rites & the Secret Orgies of the 1... -20.244638\n",
       "7315      7441  Thousand Clouds of Peace, A (Mil nubes de paz ... -20.251701\n",
       "14863    74438  Legend of the Red Dragon (a.k.a. New Legend of... -20.257257\n",
       "9198     27103  Strange Behaviour of Sexually Mature City Slic... -21.746283\n",
       "5445      5542  Nightmare City (a.k.a. City of the Walking Dea... -21.788243\n",
       "7309      7422  Love and Anarchy (Film d'amore e d'anarchia, o... -23.259131\n",
       "19144    95165  Dragon Ball Z the Movie: The World's Strongest... -23.285937\n",
       "19305    95965  Dragon Ball Z: Bardock - The Father of Goku (D... -24.752947\n",
       "6127      6226  Lost Honor of Katharina Blum, The (Verlorene E... -24.757130\n",
       "14135    70927  To Each His Own Cinema (Chacun son cinéma ou C... -26.284865\n",
       "\n",
       "[27278 rows x 3 columns]"
      ]
     },
     "execution_count": 24,
     "metadata": {},
     "output_type": "execute_result"
    }
   ],
   "source": [
    "result.sort_values(by='score',ascending=False)"
   ]
  },
  {
   "cell_type": "code",
   "execution_count": 103,
   "metadata": {},
   "outputs": [],
   "source": [
    "movie_review = pd.read_csv('movie_review1.csv',index_col=0)"
   ]
  },
  {
   "cell_type": "code",
   "execution_count": 104,
   "metadata": {
    "collapsed": true
   },
   "outputs": [
    {
     "data": {
      "text/html": [
       "<div>\n",
       "<style scoped>\n",
       "    .dataframe tbody tr th:only-of-type {\n",
       "        vertical-align: middle;\n",
       "    }\n",
       "\n",
       "    .dataframe tbody tr th {\n",
       "        vertical-align: top;\n",
       "    }\n",
       "\n",
       "    .dataframe thead th {\n",
       "        text-align: right;\n",
       "    }\n",
       "</style>\n",
       "<table border=\"1\" class=\"dataframe\">\n",
       "  <thead>\n",
       "    <tr style=\"text-align: right;\">\n",
       "      <th></th>\n",
       "      <th>text</th>\n",
       "      <th>tag</th>\n",
       "    </tr>\n",
       "  </thead>\n",
       "  <tbody>\n",
       "    <tr>\n",
       "      <th>0</th>\n",
       "      <td>films adapted from comic books have had plenty...</td>\n",
       "      <td>1</td>\n",
       "    </tr>\n",
       "    <tr>\n",
       "      <th>1</th>\n",
       "      <td>for starters , it was created by alan moore ( ...</td>\n",
       "      <td>1</td>\n",
       "    </tr>\n",
       "    <tr>\n",
       "      <th>2</th>\n",
       "      <td>to say moore and campbell thoroughly researche...</td>\n",
       "      <td>1</td>\n",
       "    </tr>\n",
       "    <tr>\n",
       "      <th>3</th>\n",
       "      <td>the book ( or \" graphic novel , \" if you will ...</td>\n",
       "      <td>1</td>\n",
       "    </tr>\n",
       "    <tr>\n",
       "      <th>4</th>\n",
       "      <td>in other words , don't dismiss this film becau...</td>\n",
       "      <td>1</td>\n",
       "    </tr>\n",
       "  </tbody>\n",
       "</table>\n",
       "</div>"
      ],
      "text/plain": [
       "                                                text  tag\n",
       "0  films adapted from comic books have had plenty...    1\n",
       "1  for starters , it was created by alan moore ( ...    1\n",
       "2  to say moore and campbell thoroughly researche...    1\n",
       "3  the book ( or \" graphic novel , \" if you will ...    1\n",
       "4  in other words , don't dismiss this film becau...    1"
      ]
     },
     "execution_count": 104,
     "metadata": {},
     "output_type": "execute_result"
    }
   ],
   "source": [
    "movie_review.head()"
   ]
  },
  {
   "cell_type": "code",
   "execution_count": 105,
   "metadata": {},
   "outputs": [],
   "source": [
    "review = processamento_text(movie_review.text)"
   ]
  },
  {
   "cell_type": "code",
   "execution_count": 106,
   "metadata": {},
   "outputs": [],
   "source": [
    "movie_review['text'] = review"
   ]
  },
  {
   "cell_type": "code",
   "execution_count": 107,
   "metadata": {},
   "outputs": [],
   "source": [
    "text = pd.DataFrame(movie_review)\n",
    "dim_vec = max(text.text.apply(len))\n",
    "min_count = 10\n",
    "window = 4\n",
    "num_workers = multiprocessing.cpu_count()\n",
    "seed = tf.set_random_seed(42)"
   ]
  },
  {
   "cell_type": "code",
   "execution_count": 108,
   "metadata": {},
   "outputs": [],
   "source": [
    "cbow_model = Word2Vec(movie_review.text,\n",
    "                    min_count = min_count, \n",
    "                    size = dim_vec, \n",
    "                    window = window,\n",
    "                    seed = seed,\n",
    "                    workers = num_workers,\n",
    "                    sg = 1) #sg = 0 -> CBOW e sg = 1 -> skipgram"
   ]
  },
  {
   "cell_type": "code",
   "execution_count": 109,
   "metadata": {},
   "outputs": [],
   "source": [
    "def meanVector(model,phrase):\n",
    "    vocab = model.wv.vocab\n",
    "    phrase = \" \".join(phrase)\n",
    "    phrase = [x for x in word_tokenize(phrase) if x in vocab]\n",
    "    #Quando não houver palavra o vector recebe 0 para todas as posições\n",
    "    if phrase == []:\n",
    "        vetor = [0.0]*dim_vec \n",
    "    else: \n",
    "        #Caso contrário, calculando a matriz da frase\n",
    "        vetor = np.mean([model[word] for word in phrase],axis=0)\n",
    "    return vetor"
   ]
  },
  {
   "cell_type": "code",
   "execution_count": 110,
   "metadata": {},
   "outputs": [],
   "source": [
    "def createFeatures(base, modelo): \n",
    "    features = [meanVector(modelo,base['text'][i])for i in range(len(base))]\n",
    "    return features"
   ]
  },
  {
   "cell_type": "code",
   "execution_count": 111,
   "metadata": {},
   "outputs": [],
   "source": [
    "from nltk.tokenize import word_tokenize\n",
    "import warnings\n",
    "warnings.filterwarnings('ignore')"
   ]
  },
  {
   "cell_type": "code",
   "execution_count": 113,
   "metadata": {},
   "outputs": [],
   "source": [
    "df = createFeatures(movie_review,cbow_model)\n"
   ]
  },
  {
   "cell_type": "code",
   "execution_count": 115,
   "metadata": {},
   "outputs": [],
   "source": [
    "classificacao = np.array(movie_review.tag)"
   ]
  },
  {
   "cell_type": "code",
   "execution_count": 126,
   "metadata": {},
   "outputs": [
    {
     "data": {
      "text/plain": [
       "array([1, 1, 1, ..., 0, 0, 0], dtype=int64)"
      ]
     },
     "execution_count": 126,
     "metadata": {},
     "output_type": "execute_result"
    }
   ],
   "source": [
    "classificacao"
   ]
  },
  {
   "cell_type": "code",
   "execution_count": 130,
   "metadata": {},
   "outputs": [],
   "source": [
    "X_train, X_test, y_train, y_test = train_test_split(df[0:len(df)],classificacao[0:len(classificacao)], test_size=0.3,random_state=109)"
   ]
  },
  {
   "cell_type": "code",
   "execution_count": 123,
   "metadata": {},
   "outputs": [],
   "source": [
    "clf = svm.SVC(kernel='linear') \n"
   ]
  },
  {
   "cell_type": "code",
   "execution_count": 131,
   "metadata": {},
   "outputs": [
    {
     "data": {
      "text/plain": [
       "SVC(C=1.0, cache_size=200, class_weight=None, coef0=0.0,\n",
       "  decision_function_shape='ovr', degree=3, gamma='auto', kernel='linear',\n",
       "  max_iter=-1, probability=False, random_state=None, shrinking=True,\n",
       "  tol=0.001, verbose=False)"
      ]
     },
     "execution_count": 131,
     "metadata": {},
     "output_type": "execute_result"
    }
   ],
   "source": [
    "clf.fit(X_train, y_train)"
   ]
  },
  {
   "cell_type": "code",
   "execution_count": 132,
   "metadata": {},
   "outputs": [],
   "source": [
    "y_pred = clf.predict(X_test)"
   ]
  },
  {
   "cell_type": "code",
   "execution_count": 134,
   "metadata": {},
   "outputs": [],
   "source": [
    "from sklearn.metrics import classification_report"
   ]
  },
  {
   "cell_type": "code",
   "execution_count": 135,
   "metadata": {},
   "outputs": [
    {
     "name": "stdout",
     "output_type": "stream",
     "text": [
      "------------------------------------------------------\n",
      "Classificação\n",
      "             precision    recall  f1-score   support\n",
      "\n",
      "          0       0.60      0.05      0.10      9578\n",
      "          1       0.51      0.96      0.67      9838\n",
      "\n",
      "avg / total       0.55      0.52      0.39     19416\n",
      "\n",
      "------------------------------------------------------\n",
      "Matriz de Confusão\n",
      "Predito    0     1\n",
      "Real              \n",
      "0        523  9055\n",
      "1        355  9483\n",
      "------------------------------------------------------\n",
      "Acurácia\n",
      "0.515348166460651\n",
      "------------------------------------------------------\n"
     ]
    }
   ],
   "source": [
    "print('------------------------------------------------------')\n",
    "print('Classificação')\n",
    "print(classification_report(y_test, y_pred))\n",
    "print('------------------------------------------------------')\n",
    "print(\"Matriz de Confusão\")\n",
    "print(pd.crosstab(y_test,y_pred,rownames=['Real'],colnames=['Predito'],margins=False))\n",
    "print('------------------------------------------------------')\n",
    "print('Acurácia')\n",
    "print(np.mean(y_pred == y_test))\n",
    "print('------------------------------------------------------')"
   ]
  },
  {
   "cell_type": "code",
   "execution_count": null,
   "metadata": {},
   "outputs": [],
   "source": []
  }
 ],
 "metadata": {
  "kernelspec": {
   "display_name": "Python 3",
   "language": "python",
   "name": "python3"
  },
  "language_info": {
   "codemirror_mode": {
    "name": "ipython",
    "version": 3
   },
   "file_extension": ".py",
   "mimetype": "text/x-python",
   "name": "python",
   "nbconvert_exporter": "python",
   "pygments_lexer": "ipython3",
   "version": "3.7.0"
  }
 },
 "nbformat": 4,
 "nbformat_minor": 2
}
